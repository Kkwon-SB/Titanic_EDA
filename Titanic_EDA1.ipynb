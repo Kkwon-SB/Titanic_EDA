{
  "cells": [
    {
      "cell_type": "markdown",
      "metadata": {
        "id": "_DcGoeM9KGwD"
      },
      "source": [
        "# 타이타닉 데이터 EDA Solution  \n",
        "데이터를 통해 얻을 수 있는 인사이트를 확인하며 인사이트를 얻기 위한 논리의 근거를 데이터로서 확인해야 하는 과정에 집중하자.\n",
        "\n",
        "생존에 영향을 미친 요인이 무엇인지 찾고, 높은 영향력을 가진 컬럼 순서대로 순위화 진행."
      ]
    },
    {
      "cell_type": "markdown",
      "metadata": {
        "id": "eASVn_hp4aHS"
      },
      "source": [
        "\n",
        "**columns 정보**\n",
        "- pclass : 객실 등급\n",
        "- survived : 생존 유무\n",
        "- name : 칭호를 포함한 이름\n",
        "- sex : 성별\n",
        "- age : 나이\n",
        "- sibsp : 형제 혹은 부부의 수\n",
        "- parch : 부모, 혹은 자녀의 수\n",
        "- ticket : 탑승권 종류 (각 숫자가 의미하는 바는 데이터를 통해 알 수 있는 것이 없을 수 있습니다.)\n",
        "- fare : 지불한 운임\n",
        "- cabin : 객실정보\n",
        "- embarked : 선착장정보, S=Southhampton, C=Cherbourg, Q=Queenstown\n",
        "- boat : 탈출한 보트가 있다면 boat 번호\n",
        "- body : 사망자의 시신 수습 후 부여한 일련번호\n",
        "- home : 출신"
      ]
    },
    {
      "cell_type": "markdown",
      "metadata": {
        "id": "agLSlCtL4aHS"
      },
      "source": [
        "### 추측 & 가설 - 어떤 요인이 타이타닉 생존률에 영향을 미쳤을까?\n",
        "\n",
        "\n",
        "***분석 전 예상***\n",
        "* sex - 재난 상황에서 신체적으로 생존에 유리한 남성이 여성에 비해 생존률이 높았을 것이다.\n",
        "\n",
        "* age - 신체능력이 가장 뛰어난 20,30대가 높은 생존률을 가질 것으로 예상한다.\n",
        "\n",
        "* pclass - 당시 시대 분위기를 고려했을 때, 더 높은 객실 등급에 머물렀던 손님이 생존 과정에서 우선적으로 구출되었을 것이다. \n",
        "    - (또한 높은 신분에 위치한 사람은 특정 집이나 지역에 거주할 것이며, 상대적으로 높은 경제적 능력을 가지고 있을 것이다. 그러므로 home, fare 컬럼은  pclass 컬럼들과 직접적인 영향이 있을것으로 예상된다.)\n",
        "\n",
        "* sibsp, parch 형제, 부부, 부모, 자녀가 있는 사람들은 서로 도울 수 있기 때문에 혼자인 사람들에 비해 생존률이 높을것으로 예상된다.\n",
        "\n",
        "* body 컬럼은 사망 후 일련 번호이기 때문에 생존요인과 무관할 것이라고 예상된다.\n",
        "\n",
        "\n",
        "* boat컬럼은 배를 탄 사람, 즉 생존자만 값을 가지고 있기 때문에 생존요인과 무관할 것이라고 예상된다.\n",
        "\n",
        "* ticket 컬럼은 티켓넘버가 pclass와 관련있다면 생존과 유의미할 수도 있지만, 랜덤숫자라면 생존과 관련없을 것이다."
      ]
    },
    {
      "cell_type": "markdown",
      "metadata": {
        "id": "7UpFxGnCghVq"
      },
      "source": [
        "# 1.데이터 확인"
      ]
    },
    {
      "cell_type": "code",
      "execution_count": 1,
      "metadata": {
        "ExecuteTime": {
          "end_time": "2021-10-13T07:15:45.551517Z",
          "start_time": "2021-10-13T07:15:43.913305Z"
        },
        "id": "NSjwEUomKGwE"
      },
      "outputs": [],
      "source": [
        "import numpy as np\n",
        "import pandas as pd\n",
        "import matplotlib.pyplot as plt\n",
        "import seaborn as sns"
      ]
    },
    {
      "cell_type": "code",
      "source": [
        "from google.colab import drive\n",
        "drive.mount('/content/drive')"
      ],
      "metadata": {
        "colab": {
          "base_uri": "https://localhost:8080/"
        },
        "id": "oejm21w85JjA",
        "outputId": "11355d7d-c6a2-4103-f38f-3aa4a9911768"
      },
      "execution_count": 2,
      "outputs": [
        {
          "output_type": "stream",
          "name": "stdout",
          "text": [
            "Mounted at /content/drive\n"
          ]
        }
      ]
    },
    {
      "cell_type": "code",
      "execution_count": 135,
      "metadata": {
        "ExecuteTime": {
          "end_time": "2021-10-13T07:37:50.055714Z",
          "start_time": "2021-10-13T07:37:50.027225Z"
        },
        "colab": {
          "base_uri": "https://localhost:8080/",
          "height": 320
        },
        "id": "w2n5AdEIKGwF",
        "outputId": "e969e25d-2b09-4fe1-9f60-ebba76f5d73a"
      },
      "outputs": [
        {
          "output_type": "execute_result",
          "data": {
            "text/plain": [
              "   pclass  survived                                             name     sex  \\\n",
              "0       1         1                    Allen, Miss. Elisabeth Walton  female   \n",
              "1       1         1                   Allison, Master. Hudson Trevor    male   \n",
              "2       1         0                     Allison, Miss. Helen Loraine  female   \n",
              "3       1         0             Allison, Mr. Hudson Joshua Creighton    male   \n",
              "4       1         0  Allison, Mrs. Hudson J C (Bessie Waldo Daniels)  female   \n",
              "\n",
              "     age  sibsp  parch  ticket      fare    cabin embarked boat   body  \\\n",
              "0  29.00      0      0   24160  211.3375       B5        S    2    NaN   \n",
              "1   0.92      1      2  113781  151.5500  C22 C26        S   11    NaN   \n",
              "2   2.00      1      2  113781  151.5500  C22 C26        S  NaN    NaN   \n",
              "3  30.00      1      2  113781  151.5500  C22 C26        S  NaN  135.0   \n",
              "4  25.00      1      2  113781  151.5500  C22 C26        S  NaN    NaN   \n",
              "\n",
              "                         home.dest  \n",
              "0                     St Louis, MO  \n",
              "1  Montreal, PQ / Chesterville, ON  \n",
              "2  Montreal, PQ / Chesterville, ON  \n",
              "3  Montreal, PQ / Chesterville, ON  \n",
              "4  Montreal, PQ / Chesterville, ON  "
            ],
            "text/html": [
              "\n",
              "  <div id=\"df-41d8e7c7-36f3-4dca-8f9a-963e409513fa\">\n",
              "    <div class=\"colab-df-container\">\n",
              "      <div>\n",
              "<style scoped>\n",
              "    .dataframe tbody tr th:only-of-type {\n",
              "        vertical-align: middle;\n",
              "    }\n",
              "\n",
              "    .dataframe tbody tr th {\n",
              "        vertical-align: top;\n",
              "    }\n",
              "\n",
              "    .dataframe thead th {\n",
              "        text-align: right;\n",
              "    }\n",
              "</style>\n",
              "<table border=\"1\" class=\"dataframe\">\n",
              "  <thead>\n",
              "    <tr style=\"text-align: right;\">\n",
              "      <th></th>\n",
              "      <th>pclass</th>\n",
              "      <th>survived</th>\n",
              "      <th>name</th>\n",
              "      <th>sex</th>\n",
              "      <th>age</th>\n",
              "      <th>sibsp</th>\n",
              "      <th>parch</th>\n",
              "      <th>ticket</th>\n",
              "      <th>fare</th>\n",
              "      <th>cabin</th>\n",
              "      <th>embarked</th>\n",
              "      <th>boat</th>\n",
              "      <th>body</th>\n",
              "      <th>home.dest</th>\n",
              "    </tr>\n",
              "  </thead>\n",
              "  <tbody>\n",
              "    <tr>\n",
              "      <th>0</th>\n",
              "      <td>1</td>\n",
              "      <td>1</td>\n",
              "      <td>Allen, Miss. Elisabeth Walton</td>\n",
              "      <td>female</td>\n",
              "      <td>29.00</td>\n",
              "      <td>0</td>\n",
              "      <td>0</td>\n",
              "      <td>24160</td>\n",
              "      <td>211.3375</td>\n",
              "      <td>B5</td>\n",
              "      <td>S</td>\n",
              "      <td>2</td>\n",
              "      <td>NaN</td>\n",
              "      <td>St Louis, MO</td>\n",
              "    </tr>\n",
              "    <tr>\n",
              "      <th>1</th>\n",
              "      <td>1</td>\n",
              "      <td>1</td>\n",
              "      <td>Allison, Master. Hudson Trevor</td>\n",
              "      <td>male</td>\n",
              "      <td>0.92</td>\n",
              "      <td>1</td>\n",
              "      <td>2</td>\n",
              "      <td>113781</td>\n",
              "      <td>151.5500</td>\n",
              "      <td>C22 C26</td>\n",
              "      <td>S</td>\n",
              "      <td>11</td>\n",
              "      <td>NaN</td>\n",
              "      <td>Montreal, PQ / Chesterville, ON</td>\n",
              "    </tr>\n",
              "    <tr>\n",
              "      <th>2</th>\n",
              "      <td>1</td>\n",
              "      <td>0</td>\n",
              "      <td>Allison, Miss. Helen Loraine</td>\n",
              "      <td>female</td>\n",
              "      <td>2.00</td>\n",
              "      <td>1</td>\n",
              "      <td>2</td>\n",
              "      <td>113781</td>\n",
              "      <td>151.5500</td>\n",
              "      <td>C22 C26</td>\n",
              "      <td>S</td>\n",
              "      <td>NaN</td>\n",
              "      <td>NaN</td>\n",
              "      <td>Montreal, PQ / Chesterville, ON</td>\n",
              "    </tr>\n",
              "    <tr>\n",
              "      <th>3</th>\n",
              "      <td>1</td>\n",
              "      <td>0</td>\n",
              "      <td>Allison, Mr. Hudson Joshua Creighton</td>\n",
              "      <td>male</td>\n",
              "      <td>30.00</td>\n",
              "      <td>1</td>\n",
              "      <td>2</td>\n",
              "      <td>113781</td>\n",
              "      <td>151.5500</td>\n",
              "      <td>C22 C26</td>\n",
              "      <td>S</td>\n",
              "      <td>NaN</td>\n",
              "      <td>135.0</td>\n",
              "      <td>Montreal, PQ / Chesterville, ON</td>\n",
              "    </tr>\n",
              "    <tr>\n",
              "      <th>4</th>\n",
              "      <td>1</td>\n",
              "      <td>0</td>\n",
              "      <td>Allison, Mrs. Hudson J C (Bessie Waldo Daniels)</td>\n",
              "      <td>female</td>\n",
              "      <td>25.00</td>\n",
              "      <td>1</td>\n",
              "      <td>2</td>\n",
              "      <td>113781</td>\n",
              "      <td>151.5500</td>\n",
              "      <td>C22 C26</td>\n",
              "      <td>S</td>\n",
              "      <td>NaN</td>\n",
              "      <td>NaN</td>\n",
              "      <td>Montreal, PQ / Chesterville, ON</td>\n",
              "    </tr>\n",
              "  </tbody>\n",
              "</table>\n",
              "</div>\n",
              "      <button class=\"colab-df-convert\" onclick=\"convertToInteractive('df-41d8e7c7-36f3-4dca-8f9a-963e409513fa')\"\n",
              "              title=\"Convert this dataframe to an interactive table.\"\n",
              "              style=\"display:none;\">\n",
              "        \n",
              "  <svg xmlns=\"http://www.w3.org/2000/svg\" height=\"24px\"viewBox=\"0 0 24 24\"\n",
              "       width=\"24px\">\n",
              "    <path d=\"M0 0h24v24H0V0z\" fill=\"none\"/>\n",
              "    <path d=\"M18.56 5.44l.94 2.06.94-2.06 2.06-.94-2.06-.94-.94-2.06-.94 2.06-2.06.94zm-11 1L8.5 8.5l.94-2.06 2.06-.94-2.06-.94L8.5 2.5l-.94 2.06-2.06.94zm10 10l.94 2.06.94-2.06 2.06-.94-2.06-.94-.94-2.06-.94 2.06-2.06.94z\"/><path d=\"M17.41 7.96l-1.37-1.37c-.4-.4-.92-.59-1.43-.59-.52 0-1.04.2-1.43.59L10.3 9.45l-7.72 7.72c-.78.78-.78 2.05 0 2.83L4 21.41c.39.39.9.59 1.41.59.51 0 1.02-.2 1.41-.59l7.78-7.78 2.81-2.81c.8-.78.8-2.07 0-2.86zM5.41 20L4 18.59l7.72-7.72 1.47 1.35L5.41 20z\"/>\n",
              "  </svg>\n",
              "      </button>\n",
              "      \n",
              "  <style>\n",
              "    .colab-df-container {\n",
              "      display:flex;\n",
              "      flex-wrap:wrap;\n",
              "      gap: 12px;\n",
              "    }\n",
              "\n",
              "    .colab-df-convert {\n",
              "      background-color: #E8F0FE;\n",
              "      border: none;\n",
              "      border-radius: 50%;\n",
              "      cursor: pointer;\n",
              "      display: none;\n",
              "      fill: #1967D2;\n",
              "      height: 32px;\n",
              "      padding: 0 0 0 0;\n",
              "      width: 32px;\n",
              "    }\n",
              "\n",
              "    .colab-df-convert:hover {\n",
              "      background-color: #E2EBFA;\n",
              "      box-shadow: 0px 1px 2px rgba(60, 64, 67, 0.3), 0px 1px 3px 1px rgba(60, 64, 67, 0.15);\n",
              "      fill: #174EA6;\n",
              "    }\n",
              "\n",
              "    [theme=dark] .colab-df-convert {\n",
              "      background-color: #3B4455;\n",
              "      fill: #D2E3FC;\n",
              "    }\n",
              "\n",
              "    [theme=dark] .colab-df-convert:hover {\n",
              "      background-color: #434B5C;\n",
              "      box-shadow: 0px 1px 3px 1px rgba(0, 0, 0, 0.15);\n",
              "      filter: drop-shadow(0px 1px 2px rgba(0, 0, 0, 0.3));\n",
              "      fill: #FFFFFF;\n",
              "    }\n",
              "  </style>\n",
              "\n",
              "      <script>\n",
              "        const buttonEl =\n",
              "          document.querySelector('#df-41d8e7c7-36f3-4dca-8f9a-963e409513fa button.colab-df-convert');\n",
              "        buttonEl.style.display =\n",
              "          google.colab.kernel.accessAllowed ? 'block' : 'none';\n",
              "\n",
              "        async function convertToInteractive(key) {\n",
              "          const element = document.querySelector('#df-41d8e7c7-36f3-4dca-8f9a-963e409513fa');\n",
              "          const dataTable =\n",
              "            await google.colab.kernel.invokeFunction('convertToInteractive',\n",
              "                                                     [key], {});\n",
              "          if (!dataTable) return;\n",
              "\n",
              "          const docLinkHtml = 'Like what you see? Visit the ' +\n",
              "            '<a target=\"_blank\" href=https://colab.research.google.com/notebooks/data_table.ipynb>data table notebook</a>'\n",
              "            + ' to learn more about interactive tables.';\n",
              "          element.innerHTML = '';\n",
              "          dataTable['output_type'] = 'display_data';\n",
              "          await google.colab.output.renderOutput(dataTable, element);\n",
              "          const docLink = document.createElement('div');\n",
              "          docLink.innerHTML = docLinkHtml;\n",
              "          element.appendChild(docLink);\n",
              "        }\n",
              "      </script>\n",
              "    </div>\n",
              "  </div>\n",
              "  "
            ]
          },
          "metadata": {},
          "execution_count": 135
        }
      ],
      "source": [
        "# df = pd.read_csv('titanic.csv')\n",
        "df = pd.read_csv('/content/drive/MyDrive/부트캠프_프로젝트/타이타닉/titanic.csv')\n",
        "df.head()"
      ]
    },
    {
      "cell_type": "code",
      "execution_count": null,
      "metadata": {
        "colab": {
          "base_uri": "https://localhost:8080/",
          "height": 300
        },
        "id": "5MFR1XmJEG8x",
        "outputId": "a40862c9-058d-4802-fade-f6ef56e482e3"
      },
      "outputs": [
        {
          "data": {
            "text/html": [
              "\n",
              "  <div id=\"df-4c2cfc53-7763-4835-91b5-0a2baf837f88\">\n",
              "    <div class=\"colab-df-container\">\n",
              "      <div>\n",
              "<style scoped>\n",
              "    .dataframe tbody tr th:only-of-type {\n",
              "        vertical-align: middle;\n",
              "    }\n",
              "\n",
              "    .dataframe tbody tr th {\n",
              "        vertical-align: top;\n",
              "    }\n",
              "\n",
              "    .dataframe thead th {\n",
              "        text-align: right;\n",
              "    }\n",
              "</style>\n",
              "<table border=\"1\" class=\"dataframe\">\n",
              "  <thead>\n",
              "    <tr style=\"text-align: right;\">\n",
              "      <th></th>\n",
              "      <th>pclass</th>\n",
              "      <th>survived</th>\n",
              "      <th>age</th>\n",
              "      <th>sibsp</th>\n",
              "      <th>parch</th>\n",
              "      <th>fare</th>\n",
              "      <th>body</th>\n",
              "    </tr>\n",
              "  </thead>\n",
              "  <tbody>\n",
              "    <tr>\n",
              "      <th>count</th>\n",
              "      <td>1309.000000</td>\n",
              "      <td>1309.000000</td>\n",
              "      <td>1046.000000</td>\n",
              "      <td>1309.000000</td>\n",
              "      <td>1309.000000</td>\n",
              "      <td>1308.000000</td>\n",
              "      <td>121.000000</td>\n",
              "    </tr>\n",
              "    <tr>\n",
              "      <th>mean</th>\n",
              "      <td>2.294882</td>\n",
              "      <td>0.381971</td>\n",
              "      <td>29.881138</td>\n",
              "      <td>0.498854</td>\n",
              "      <td>0.385027</td>\n",
              "      <td>33.295479</td>\n",
              "      <td>160.809917</td>\n",
              "    </tr>\n",
              "    <tr>\n",
              "      <th>std</th>\n",
              "      <td>0.837836</td>\n",
              "      <td>0.486055</td>\n",
              "      <td>14.413493</td>\n",
              "      <td>1.041658</td>\n",
              "      <td>0.865560</td>\n",
              "      <td>51.758668</td>\n",
              "      <td>97.696922</td>\n",
              "    </tr>\n",
              "    <tr>\n",
              "      <th>min</th>\n",
              "      <td>1.000000</td>\n",
              "      <td>0.000000</td>\n",
              "      <td>0.170000</td>\n",
              "      <td>0.000000</td>\n",
              "      <td>0.000000</td>\n",
              "      <td>0.000000</td>\n",
              "      <td>1.000000</td>\n",
              "    </tr>\n",
              "    <tr>\n",
              "      <th>25%</th>\n",
              "      <td>2.000000</td>\n",
              "      <td>0.000000</td>\n",
              "      <td>21.000000</td>\n",
              "      <td>0.000000</td>\n",
              "      <td>0.000000</td>\n",
              "      <td>7.895800</td>\n",
              "      <td>72.000000</td>\n",
              "    </tr>\n",
              "    <tr>\n",
              "      <th>50%</th>\n",
              "      <td>3.000000</td>\n",
              "      <td>0.000000</td>\n",
              "      <td>28.000000</td>\n",
              "      <td>0.000000</td>\n",
              "      <td>0.000000</td>\n",
              "      <td>14.454200</td>\n",
              "      <td>155.000000</td>\n",
              "    </tr>\n",
              "    <tr>\n",
              "      <th>75%</th>\n",
              "      <td>3.000000</td>\n",
              "      <td>1.000000</td>\n",
              "      <td>39.000000</td>\n",
              "      <td>1.000000</td>\n",
              "      <td>0.000000</td>\n",
              "      <td>31.275000</td>\n",
              "      <td>256.000000</td>\n",
              "    </tr>\n",
              "    <tr>\n",
              "      <th>max</th>\n",
              "      <td>3.000000</td>\n",
              "      <td>1.000000</td>\n",
              "      <td>80.000000</td>\n",
              "      <td>8.000000</td>\n",
              "      <td>9.000000</td>\n",
              "      <td>512.329200</td>\n",
              "      <td>328.000000</td>\n",
              "    </tr>\n",
              "  </tbody>\n",
              "</table>\n",
              "</div>\n",
              "      <button class=\"colab-df-convert\" onclick=\"convertToInteractive('df-4c2cfc53-7763-4835-91b5-0a2baf837f88')\"\n",
              "              title=\"Convert this dataframe to an interactive table.\"\n",
              "              style=\"display:none;\">\n",
              "        \n",
              "  <svg xmlns=\"http://www.w3.org/2000/svg\" height=\"24px\"viewBox=\"0 0 24 24\"\n",
              "       width=\"24px\">\n",
              "    <path d=\"M0 0h24v24H0V0z\" fill=\"none\"/>\n",
              "    <path d=\"M18.56 5.44l.94 2.06.94-2.06 2.06-.94-2.06-.94-.94-2.06-.94 2.06-2.06.94zm-11 1L8.5 8.5l.94-2.06 2.06-.94-2.06-.94L8.5 2.5l-.94 2.06-2.06.94zm10 10l.94 2.06.94-2.06 2.06-.94-2.06-.94-.94-2.06-.94 2.06-2.06.94z\"/><path d=\"M17.41 7.96l-1.37-1.37c-.4-.4-.92-.59-1.43-.59-.52 0-1.04.2-1.43.59L10.3 9.45l-7.72 7.72c-.78.78-.78 2.05 0 2.83L4 21.41c.39.39.9.59 1.41.59.51 0 1.02-.2 1.41-.59l7.78-7.78 2.81-2.81c.8-.78.8-2.07 0-2.86zM5.41 20L4 18.59l7.72-7.72 1.47 1.35L5.41 20z\"/>\n",
              "  </svg>\n",
              "      </button>\n",
              "      \n",
              "  <style>\n",
              "    .colab-df-container {\n",
              "      display:flex;\n",
              "      flex-wrap:wrap;\n",
              "      gap: 12px;\n",
              "    }\n",
              "\n",
              "    .colab-df-convert {\n",
              "      background-color: #E8F0FE;\n",
              "      border: none;\n",
              "      border-radius: 50%;\n",
              "      cursor: pointer;\n",
              "      display: none;\n",
              "      fill: #1967D2;\n",
              "      height: 32px;\n",
              "      padding: 0 0 0 0;\n",
              "      width: 32px;\n",
              "    }\n",
              "\n",
              "    .colab-df-convert:hover {\n",
              "      background-color: #E2EBFA;\n",
              "      box-shadow: 0px 1px 2px rgba(60, 64, 67, 0.3), 0px 1px 3px 1px rgba(60, 64, 67, 0.15);\n",
              "      fill: #174EA6;\n",
              "    }\n",
              "\n",
              "    [theme=dark] .colab-df-convert {\n",
              "      background-color: #3B4455;\n",
              "      fill: #D2E3FC;\n",
              "    }\n",
              "\n",
              "    [theme=dark] .colab-df-convert:hover {\n",
              "      background-color: #434B5C;\n",
              "      box-shadow: 0px 1px 3px 1px rgba(0, 0, 0, 0.15);\n",
              "      filter: drop-shadow(0px 1px 2px rgba(0, 0, 0, 0.3));\n",
              "      fill: #FFFFFF;\n",
              "    }\n",
              "  </style>\n",
              "\n",
              "      <script>\n",
              "        const buttonEl =\n",
              "          document.querySelector('#df-4c2cfc53-7763-4835-91b5-0a2baf837f88 button.colab-df-convert');\n",
              "        buttonEl.style.display =\n",
              "          google.colab.kernel.accessAllowed ? 'block' : 'none';\n",
              "\n",
              "        async function convertToInteractive(key) {\n",
              "          const element = document.querySelector('#df-4c2cfc53-7763-4835-91b5-0a2baf837f88');\n",
              "          const dataTable =\n",
              "            await google.colab.kernel.invokeFunction('convertToInteractive',\n",
              "                                                     [key], {});\n",
              "          if (!dataTable) return;\n",
              "\n",
              "          const docLinkHtml = 'Like what you see? Visit the ' +\n",
              "            '<a target=\"_blank\" href=https://colab.research.google.com/notebooks/data_table.ipynb>data table notebook</a>'\n",
              "            + ' to learn more about interactive tables.';\n",
              "          element.innerHTML = '';\n",
              "          dataTable['output_type'] = 'display_data';\n",
              "          await google.colab.output.renderOutput(dataTable, element);\n",
              "          const docLink = document.createElement('div');\n",
              "          docLink.innerHTML = docLinkHtml;\n",
              "          element.appendChild(docLink);\n",
              "        }\n",
              "      </script>\n",
              "    </div>\n",
              "  </div>\n",
              "  "
            ],
            "text/plain": [
              "            pclass     survived          age        sibsp        parch  \\\n",
              "count  1309.000000  1309.000000  1046.000000  1309.000000  1309.000000   \n",
              "mean      2.294882     0.381971    29.881138     0.498854     0.385027   \n",
              "std       0.837836     0.486055    14.413493     1.041658     0.865560   \n",
              "min       1.000000     0.000000     0.170000     0.000000     0.000000   \n",
              "25%       2.000000     0.000000    21.000000     0.000000     0.000000   \n",
              "50%       3.000000     0.000000    28.000000     0.000000     0.000000   \n",
              "75%       3.000000     1.000000    39.000000     1.000000     0.000000   \n",
              "max       3.000000     1.000000    80.000000     8.000000     9.000000   \n",
              "\n",
              "              fare        body  \n",
              "count  1308.000000  121.000000  \n",
              "mean     33.295479  160.809917  \n",
              "std      51.758668   97.696922  \n",
              "min       0.000000    1.000000  \n",
              "25%       7.895800   72.000000  \n",
              "50%      14.454200  155.000000  \n",
              "75%      31.275000  256.000000  \n",
              "max     512.329200  328.000000  "
            ]
          },
          "execution_count": 5,
          "metadata": {},
          "output_type": "execute_result"
        }
      ],
      "source": [
        "df.describe()"
      ]
    },
    {
      "cell_type": "code",
      "execution_count": null,
      "metadata": {
        "ExecuteTime": {
          "end_time": "2021-10-13T07:37:50.964891Z",
          "start_time": "2021-10-13T07:37:50.953366Z"
        },
        "colab": {
          "base_uri": "https://localhost:8080/"
        },
        "id": "a2bNX2v6KGwG",
        "outputId": "827d55cd-d3ed-4015-d1a3-dbd6823e2082"
      },
      "outputs": [
        {
          "name": "stdout",
          "output_type": "stream",
          "text": [
            "<class 'pandas.core.frame.DataFrame'>\n",
            "RangeIndex: 1309 entries, 0 to 1308\n",
            "Data columns (total 14 columns):\n",
            " #   Column     Non-Null Count  Dtype  \n",
            "---  ------     --------------  -----  \n",
            " 0   pclass     1309 non-null   int64  \n",
            " 1   survived   1309 non-null   int64  \n",
            " 2   name       1309 non-null   object \n",
            " 3   sex        1309 non-null   object \n",
            " 4   age        1046 non-null   float64\n",
            " 5   sibsp      1309 non-null   int64  \n",
            " 6   parch      1309 non-null   int64  \n",
            " 7   ticket     1309 non-null   object \n",
            " 8   fare       1308 non-null   float64\n",
            " 9   cabin      295 non-null    object \n",
            " 10  embarked   1307 non-null   object \n",
            " 11  boat       486 non-null    object \n",
            " 12  body       121 non-null    float64\n",
            " 13  home.dest  745 non-null    object \n",
            "dtypes: float64(3), int64(4), object(7)\n",
            "memory usage: 143.3+ KB\n"
          ]
        }
      ],
      "source": [
        "df.info()"
      ]
    },
    {
      "cell_type": "code",
      "execution_count": null,
      "metadata": {
        "colab": {
          "base_uri": "https://localhost:8080/"
        },
        "id": "C0Q3kDbphcG2",
        "outputId": "149a1f5a-c457-4e0a-cc40-f1a4010c89bf"
      },
      "outputs": [
        {
          "data": {
            "text/plain": [
              "pclass          0\n",
              "survived        0\n",
              "name            0\n",
              "sex             0\n",
              "age           263\n",
              "sibsp           0\n",
              "parch           0\n",
              "ticket          0\n",
              "fare            1\n",
              "cabin        1014\n",
              "embarked        2\n",
              "boat          823\n",
              "body         1188\n",
              "home.dest     564\n",
              "dtype: int64"
            ]
          },
          "execution_count": 7,
          "metadata": {},
          "output_type": "execute_result"
        }
      ],
      "source": [
        "df.isnull().sum()"
      ]
    },
    {
      "cell_type": "markdown",
      "metadata": {
        "id": "wB8TWA6--dKF"
      },
      "source": [
        "### 전체 데이터 수 1309개\n",
        "#### age, fare, cabin, embarked, boat, body, home.dest, 7개 컬럼에 결측치가 확인됩니다."
      ]
    },
    {
      "cell_type": "markdown",
      "source": [
        "# 2.컬럼 확인\n",
        "\n",
        "## 전처리 계획\n",
        "결측 값이 있을 경우, 제거 및 대체 / 결측값이 없더라도 생존과 무관하다고 판단되면 제커\n",
        "\n",
        "#### - 일반 컬럼\n",
        "#### - 결측치 포함 컬럼"
      ],
      "metadata": {
        "id": "Lw7-dUHcqYRW"
      }
    },
    {
      "cell_type": "markdown",
      "source": [
        "### 무결측 컬럼"
      ],
      "metadata": {
        "id": "xpuORICeurBw"
      }
    },
    {
      "cell_type": "markdown",
      "source": [
        "####1 pclass 컬럼"
      ],
      "metadata": {
        "id": "fNMBSuPOrad4"
      }
    },
    {
      "cell_type": "code",
      "source": [
        "print(df['pclass'].unique())\n",
        "print(df['pclass'].value_counts())"
      ],
      "metadata": {
        "colab": {
          "base_uri": "https://localhost:8080/"
        },
        "id": "SBvulWgDqhOQ",
        "outputId": "3e6701de-5395-4c35-8aec-7fb14e648378"
      },
      "execution_count": 146,
      "outputs": [
        {
          "output_type": "stream",
          "name": "stdout",
          "text": [
            "[1 2 3]\n",
            "3    709\n",
            "1    323\n",
            "2    277\n",
            "Name: pclass, dtype: int64\n"
          ]
        }
      ]
    },
    {
      "cell_type": "code",
      "source": [
        "plt.figure(figsize=(10,8))\n",
        "ax = sns.countplot(x = 'pclass', data = df, hue = 'survived')\n",
        "\n",
        "for p in ax.patches:\n",
        "    height = p.get_height()\n",
        "    ax.text(p.get_x() + p.get_width() / 2., height + 3, height, ha = 'center', size = 13)\n",
        "\n",
        "plt.show()"
      ],
      "metadata": {
        "colab": {
          "base_uri": "https://localhost:8080/",
          "height": 497
        },
        "id": "6ScPa3lPqv4S",
        "outputId": "fd3a11b2-ece7-479d-b63e-be1aadc2d5b8"
      },
      "execution_count": 155,
      "outputs": [
        {
          "output_type": "display_data",
          "data": {
            "text/plain": [
              "<Figure size 720x576 with 1 Axes>"
            ],
            "image/png": "[encoded data removed]"
          },
          "metadata": {
            "needs_background": "light"
          }
        }
      ]
    },
    {
      "cell_type": "markdown",
      "source": [
        "####2 name 컬럼"
      ],
      "metadata": {
        "id": "334NIRulrbu4"
      }
    },
    {
      "cell_type": "code",
      "source": [
        "print(df['name'].unique())\n",
        "print(df['name'].value_counts())"
      ],
      "metadata": {
        "colab": {
          "base_uri": "https://localhost:8080/"
        },
        "outputId": "2baa9d8c-18d9-44ee-a68a-deab8e2df16e",
        "id": "vN8g4Cm_rXMT"
      },
      "execution_count": 156,
      "outputs": [
        {
          "output_type": "stream",
          "name": "stdout",
          "text": [
            "['Allen, Miss. Elisabeth Walton' 'Allison, Master. Hudson Trevor'\n",
            " 'Allison, Miss. Helen Loraine' ... 'Zakarian, Mr. Mapriededer'\n",
            " 'Zakarian, Mr. Ortin' 'Zimmerman, Mr. Leo']\n",
            "Connolly, Miss. Kate             2\n",
            "Kelly, Mr. James                 2\n",
            "Allen, Miss. Elisabeth Walton    1\n",
            "Ilmakangas, Miss. Ida Livija     1\n",
            "Ilieff, Mr. Ylio                 1\n",
            "                                ..\n",
            "Hart, Miss. Eva Miriam           1\n",
            "Harris, Mr. Walter               1\n",
            "Harris, Mr. George               1\n",
            "Harper, Rev. John                1\n",
            "Zimmerman, Mr. Leo               1\n",
            "Name: name, Length: 1307, dtype: int64\n"
          ]
        }
      ]
    },
    {
      "cell_type": "code",
      "source": [
        "plt.figure(figsize=(10,8))\n",
        "ax = sns.countplot(x = 'name', data = df, hue = 'survived')\n",
        "\n",
        "plt.show()"
      ],
      "metadata": {
        "colab": {
          "base_uri": "https://localhost:8080/",
          "height": 497
        },
        "outputId": "fb7223e8-49c4-4a28-aba0-bd5cb6e2d9c9",
        "id": "udlf0jw-rXMV"
      },
      "execution_count": 158,
      "outputs": [
        {
          "output_type": "display_data",
          "data": {
            "text/plain": [
              "<Figure size 720x576 with 1 Axes>"
            ],
            "image/png": "[encoded data removed]"
          },
          "metadata": {
            "needs_background": "light"
          }
        }
      ]
    },
    {
      "cell_type": "code",
      "source": [],
      "metadata": {
        "id": "_E4FNXrPrw67"
      },
      "execution_count": null,
      "outputs": []
    },
    {
      "cell_type": "markdown",
      "source": [
        "####3 sex 컬럼"
      ],
      "metadata": {
        "id": "AuThEnOVrz8p"
      }
    },
    {
      "cell_type": "code",
      "source": [
        "print(df['sex'].unique())\n",
        "print(df['sex'].value_counts())"
      ],
      "metadata": {
        "colab": {
          "base_uri": "https://localhost:8080/"
        },
        "outputId": "bc4bb53a-ae9e-4753-8bb1-e0dabfdbf06f",
        "id": "Jl0rlV1_rz8q"
      },
      "execution_count": 159,
      "outputs": [
        {
          "output_type": "stream",
          "name": "stdout",
          "text": [
            "['female' 'male']\n",
            "male      843\n",
            "female    466\n",
            "Name: sex, dtype: int64\n"
          ]
        }
      ]
    },
    {
      "cell_type": "code",
      "source": [
        "plt.figure(figsize=(10,8))\n",
        "ax = sns.countplot(x = 'sex', data = df, hue = 'survived')\n",
        "\n",
        "for p in ax.patches:\n",
        "    height = p.get_height()\n",
        "    ax.text(p.get_x() + p.get_width() / 2., height + 3, height, ha = 'center', size = 13)\n",
        "\n",
        "plt.show()"
      ],
      "metadata": {
        "colab": {
          "base_uri": "https://localhost:8080/",
          "height": 497
        },
        "outputId": "e1e71fe9-2b43-4fee-9156-73f071507172",
        "id": "jAut5E_lrz8q"
      },
      "execution_count": 160,
      "outputs": [
        {
          "output_type": "display_data",
          "data": {
            "text/plain": [
              "<Figure size 720x576 with 1 Axes>"
            ],
            "image/png": "[encoded data removed]"
          },
          "metadata": {
            "needs_background": "light"
          }
        }
      ]
    },
    {
      "cell_type": "markdown",
      "source": [
        "####4 sibsp 컬럼"
      ],
      "metadata": {
        "id": "670ZvVwrr3Gs"
      }
    },
    {
      "cell_type": "code",
      "source": [
        "print(df['sibsp'].unique())\n",
        "print(df['sibsp'].value_counts())"
      ],
      "metadata": {
        "colab": {
          "base_uri": "https://localhost:8080/"
        },
        "outputId": "0f971d9b-bd87-414d-e168-a961226c80a5",
        "id": "UXL-Emy5r3Gs"
      },
      "execution_count": 161,
      "outputs": [
        {
          "output_type": "stream",
          "name": "stdout",
          "text": [
            "[0 1 2 3 4 5 8]\n",
            "0    891\n",
            "1    319\n",
            "2     42\n",
            "4     22\n",
            "3     20\n",
            "8      9\n",
            "5      6\n",
            "Name: sibsp, dtype: int64\n"
          ]
        }
      ]
    },
    {
      "cell_type": "code",
      "source": [
        "plt.figure(figsize=(12,6))\n",
        "ax = sns.countplot(x = 'sibsp', data = df, hue = 'survived')\n",
        "\n",
        "for p in ax.patches:\n",
        "    height = p.get_height()\n",
        "    ax.text(p.get_x() + p.get_width() / 2., height + 3, height, ha = 'center', size = 13)\n",
        "\n",
        "plt.show()"
      ],
      "metadata": {
        "colab": {
          "base_uri": "https://localhost:8080/",
          "height": 463
        },
        "outputId": "5f6962e4-c572-441a-ee27-bafd9b2cee6b",
        "id": "AaA66qavr3Gt"
      },
      "execution_count": 163,
      "outputs": [
        {
          "output_type": "stream",
          "name": "stderr",
          "text": [
            "WARNING:matplotlib.text:posx and posy should be finite values\n",
            "WARNING:matplotlib.text:posx and posy should be finite values\n",
            "WARNING:matplotlib.text:posx and posy should be finite values\n",
            "WARNING:matplotlib.text:posx and posy should be finite values\n"
          ]
        },
        {
          "output_type": "display_data",
          "data": {
            "text/plain": [
              "<Figure size 864x432 with 1 Axes>"
            ],
            "image/png": "[encoded data removed]"
          },
          "metadata": {
            "needs_background": "light"
          }
        }
      ]
    },
    {
      "cell_type": "markdown",
      "source": [
        "####5 parch 컬럼"
      ],
      "metadata": {
        "id": "60-2eVjGr3il"
      }
    },
    {
      "cell_type": "code",
      "source": [
        "print(df['parch'].unique())\n",
        "print(df['parch'].value_counts())"
      ],
      "metadata": {
        "colab": {
          "base_uri": "https://localhost:8080/"
        },
        "outputId": "3e49b1bd-d0e6-45c5-b4e8-dcb39034d503",
        "id": "QxUANE-2r3im"
      },
      "execution_count": 164,
      "outputs": [
        {
          "output_type": "stream",
          "name": "stdout",
          "text": [
            "[0 2 1 4 3 5 6 9]\n",
            "0    1002\n",
            "1     170\n",
            "2     113\n",
            "3       8\n",
            "4       6\n",
            "5       6\n",
            "6       2\n",
            "9       2\n",
            "Name: parch, dtype: int64\n"
          ]
        }
      ]
    },
    {
      "cell_type": "code",
      "source": [
        "plt.figure(figsize=(10,8))\n",
        "ax = sns.countplot(x = 'parch', data = df, hue = 'survived')\n",
        "\n",
        "for p in ax.patches:\n",
        "    height = p.get_height()\n",
        "    ax.text(p.get_x() + p.get_width() / 2., height + 3, height, ha = 'center', size = 13)\n",
        "\n",
        "plt.show()"
      ],
      "metadata": {
        "colab": {
          "base_uri": "https://localhost:8080/",
          "height": 572
        },
        "outputId": "139430e6-8a9a-4f1a-b7ea-6c6809fcbf0f",
        "id": "jK1uAPI8r3im"
      },
      "execution_count": 165,
      "outputs": [
        {
          "output_type": "stream",
          "name": "stderr",
          "text": [
            "WARNING:matplotlib.text:posx and posy should be finite values\n",
            "WARNING:matplotlib.text:posx and posy should be finite values\n",
            "WARNING:matplotlib.text:posx and posy should be finite values\n",
            "WARNING:matplotlib.text:posx and posy should be finite values\n"
          ]
        },
        {
          "output_type": "display_data",
          "data": {
            "text/plain": [
              "<Figure size 720x576 with 1 Axes>"
            ],
            "image/png": "[encoded data removed]"
          },
          "metadata": {
            "needs_background": "light"
          }
        }
      ]
    },
    {
      "cell_type": "markdown",
      "source": [
        "sibsp, parch 컬럼의 경우 1~2명의 가족이 있을 때 가장 생존률이 높았다.\n",
        "반면 가족이 없을 경우 사망률은 크게 증가하는 그래프를 보여준다.<br>"
      ],
      "metadata": {
        "id": "eaNI1iREtJbz"
      }
    },
    {
      "cell_type": "markdown",
      "source": [
        "####6 ticket 컬럼"
      ],
      "metadata": {
        "id": "kbEpUXmXr7hG"
      }
    },
    {
      "cell_type": "code",
      "source": [
        "print(df['ticket'].unique())\n",
        "print(df['ticket'].value_counts())"
      ],
      "metadata": {
        "colab": {
          "base_uri": "https://localhost:8080/"
        },
        "outputId": "e6b7f859-b2a5-4f87-fe9f-2578637f8737",
        "id": "ipEmEjE3r7hG"
      },
      "execution_count": 166,
      "outputs": [
        {
          "output_type": "stream",
          "name": "stdout",
          "text": [
            "['24160' '113781' '19952' '13502' '112050' '11769' 'PC 17609' 'PC 17757'\n",
            " 'PC 17477' '19877' '27042' 'PC 17318' 'PC 17558' '11813' '13050' '11751'\n",
            " '111369' 'PC 17483' '13905' '11967' 'PC 17760' '110564' '113784' '112277'\n",
            " '36928' '113783' '110489' 'PC 17608' '113505' '111427' '113054'\n",
            " 'PC 17591' '112379' 'PC 17610' '16966' '113050' '113798' 'PC 17476'\n",
            " 'PC 17606' 'PC 17755' '695' '113059' '113760' '19924' '17770'\n",
            " 'W.E.P. 5734' '113806' '110152' 'PC 17594' '112051' '13508' '110465'\n",
            " '5727' 'PC 17756' '11770' '113791' 'WE/P 5735' '112901' 'PC 17599'\n",
            " '113055' '113804' 'F.C. 12750' '17474' '33638' 'PC 17761' '11755'\n",
            " 'PC 17485' 'PC 17580' '11767' '36947' 'PC 17531' 'PC 17598' '17421'\n",
            " 'PC 17474' '113051' '19950' '113778' 'PC 17611' '17765' '13568' '13567'\n",
            " '112058' '113803' '111320' '113503' '112378' 'PC 17593' '17453'\n",
            " 'PC 17754' '113780' '112053' 'PC 17582' 'PC 17759' '11765' 'PC 17572'\n",
            " '113796' '36973' '112059' '16988' '12749' '113038' '17463' '680' '111361'\n",
            " '113789' '111426' '19943' 'PC 17600' '113572' 'PC 17595' '694' '113044'\n",
            " '11771' '17464' '11753' '113028' '17465' 'PC 17612' '17475' '112377'\n",
            " 'PC 17592' '113501' '113801' 'PC 17569' '110469' '11774' '113773'\n",
            " 'PC 17482' 'PC 17473' 'PC 17604' '13509' '19928' '13236' '113787'\n",
            " 'PC 17596' '35273' '11752' '693' 'PC 17758' 'F.C. 12998' '113509'\n",
            " 'PC 17562' '112052' '113043' '113776' '113786' '19972' 'PC 17607'\n",
            " 'PC 17590' '111428' '113767' 'PC 17613' 'PC 17585' '13049' 'PC 17603'\n",
            " '113790' '19988' '111163' '113794' 'PC 17475' '13507' '13213' '113788'\n",
            " '113792' '17764' '13695' '113056' '21228' '13214' '113514' '11778'\n",
            " 'PC 17605' '36963' '17466' '110413' '19996' '2543' 'PC 17601' '111240'\n",
            " '36967' '110813' '113800' '35281' '113795' 'PC 17597' '113510' '19947'\n",
            " '113807' 'P/PP 3381' '248744' '231945' 'C.A. 34050' '226875' '244346'\n",
            " '29108' 'C.A. 31030' '28551' 'C.A./SOTON 34068' 'S.O.P. 1166' '2908'\n",
            " '244358' '230136' '248698' '28404' '28425' '237670' '211535' '220367'\n",
            " '248733' '29750' '236853' '27849' '234686' '244310' '236852' '248738'\n",
            " 'F.C.C. 13528' '239853' '28424' '244252' '248731' 'SC/AH 29037' '237789'\n",
            " '2003' 'W./C. 14263' '248740' '28034' 'C.A. 31921' 'W./C. 14266' '237249'\n",
            " 'F.C.C. 13534' '29107' 'C.A. 33112' 'S.O.C. 14879' '237668' '244360'\n",
            " 'SC/PARIS 2167' 'C.A. 31029' '231919' '28403' '28220' 'SC/PARIS 2149'\n",
            " 'SC/PARIS 2148' '29751' '236854' '236171' '2926' 'C.A. 15185' '229236'\n",
            " '239854' '237671' '239865' '28664' '243880' '31028' 'C.A. 30769' '28133'\n",
            " '28134' '248726' '233866' '12233' '250646' '250647' '250653' '250649'\n",
            " '248746' '248727' 'S.W./PP 752' 'W/C 14208' 'F.C.C. 13529' '220845'\n",
            " '248706' '250650' '29105' '29104' '242963' '250643' '26707' '237798'\n",
            " '24065' 'SCO/W 1585' 'SO/C 14885' '243847' '237565' 'C.A. 33111'\n",
            " 'SC/AH Basle 541' '244367' '226593' '233734' '223596' '219533' '239855'\n",
            " 'C.A. 18723' '250651' '240261' 'SC/Paris 2123' 'SC 1748' 'C.A. 34260'\n",
            " 'SC/Paris 2163' 'C.A. 29566' '235509' 'SC/AH 3085' 'S.O./P.P. 3' '237735'\n",
            " 'S.C./PARIS 2079' 'SC/A.3 2861' '28228' '239059' '237216' '233478'\n",
            " '250644' 'SW/PP 751' '248723' '234360' 'C.A. 24580' '211536' '29011'\n",
            " '250655' '240276' '237736' '230080' '244368' '218629' 'SC/PARIS 2166'\n",
            " 'C.A. 29395' '28213' 'W./C. 14260' 'SC/PARIS 2146' '244278'\n",
            " 'SC/PARIS 2147' 'SC 14888' '230433' '28665' 'SC/PARIS 2131' '237393'\n",
            " 'S.O./P.P. 2' '234604' 'C.A. 34644' 'SC/PARIS 2168' '26360' 'C.A. 17248'\n",
            " '31027' '230434' 'SC/PARIS 2133' '29106' 'W./C. 14258' '28004'\n",
            " 'C.A. 31026' '248659' '244361' '250652' '250648' '237442' '234818'\n",
            " '28206' '31418' 'C.A. 29178' '237734' 'F.C.C. 13540' '248734'\n",
            " 'F.C.C. 13531' '233639' '240929' '34218' '11668' '28221' 'CA 31352'\n",
            " '28666' '239856' 'C.A. 33595' '27267' '228414' '29103' 'C.A. 34651'\n",
            " 'C.A. 24579' 'SC/PARIS 2159' '244270' '244373' '220844' '248747'\n",
            " 'C.A. 5547' 'C.A. 2673' '348125' '348122' 'SOTON/O2 3101284' '2657'\n",
            " 'C 7076' '341826' '7546' '392091' '2699' '3474' 'SOTON/O2 3101287'\n",
            " 'SOTON/O.Q. 3101311' 'SOTON/O.Q. 3101312' '373450' '2223' 'C 4001'\n",
            " '350046' '347082' '3101281' '347091' '350043' '347075' '347466' '349202'\n",
            " '349237' '349911' 'SOTON/O.Q. 3101310' '347077' '350054' '2696' '2692'\n",
            " 'SOTON/O.Q. 3101309' '2627' '2694' '347468' '2687' '2679' '3101278'\n",
            " '2666' 'A/4 31416' '2623' '349248' '2663' '2691' '330844' '324669'\n",
            " '323951' '347068' 'PP 4348' '2622' '2648' '1601' '312992' '347090'\n",
            " '349224' '2678' '2664' '364848' '364849' '54636' '334914' '347471' '3460'\n",
            " 'A/5 21171' '350045' '364512' '329944' '330920' '365222' '330963'\n",
            " '315087' '315084' '315091' '315089' '315093' '315086' '364846' '364858'\n",
            " 'A./5. 2152' '2689' '350042' '350409' '367231' '368364' '392095' '343275'\n",
            " 'A/5. 13032' '343276' '2680' 'SOTON/O.Q. 3101307' 'A/5 3540' '371109'\n",
            " '349210' '349209' '21332' '335097' '370373' '330972' '370369' 'A/5 3536'\n",
            " '349230' '349229' '349231' 'SOTON/OQ 392090' 'C.A. 37671' '364500'\n",
            " 'S.P. 3464' '371362' '315090' '2698' '7598' '7552' '349228' '382650'\n",
            " '382651' '347080' '349219' '349203' 'A/4 48871' 'SC/A4 23568' 'A/4 48873'\n",
            " '386525' '345572' '345774' '345778' 'C.A. 2315' '349250' '349238'\n",
            " '349225' 'A/5 21172' 'A/5 21175' '330958' '349232' '315088' '349226'\n",
            " '2686' '370376' 'A/5. 10482' '364516' '368702' 'SOTON/OQ 392083' '349241'\n",
            " '336439' 'S.O./P.P. 752' '347072' '349912' '347074' '347061' '2674'\n",
            " '2675' '2690' '2695' 'A/5 3902' '2631' 'C.A. 6212' '367232'\n",
            " 'SOTON/O.Q. 3101308' '350036' '364859' '364851' '368323' '330910'\n",
            " '365235' 'W./C. 6608' 'A/5 1478' '368573' 'SOTON/O.Q. 3101314' '36864'\n",
            " '358585' '349254' '14973' '35851' '335677' '363291' 'SOTON/O.Q. 3101263'\n",
            " 'SOTON/O.Q. 3101306' 'CA 2144' '21440' '8471' '376563' '7534' '3101276'\n",
            " '3101277' '347069' '349236' 'AQ/3. 30631' '65303' '65304'\n",
            " 'STON/O2. 3101279' '345769' '2693' '350026' '350025' '350029'\n",
            " 'W./C. 6609' '374887' '394140' '370375' '347089' '365226'\n",
            " 'STON/O2. 3101282' 'STON/O2. 3101290' '7548' '349243' '347086' '382649'\n",
            " '3101298' 'C 7075' 'STON/O2. 3101283' '370377' 'A. 2. 39186' '348121'\n",
            " '3470' '2685' '349220' 'STON/O2. 3101270' 'STON/O2. 3101271' '349201'\n",
            " '349240' '350034' 'SOTON/O.Q. 3101305' '350050' '350047' '350048' '14313'\n",
            " '65306' '3101264' '347070' '350052' '7540' '347063' '347467' '347742'\n",
            " 'LINE' '347062' 'W./C. 6607' '349204' '350417' '350408' '4136' '4137'\n",
            " 'STON/O 2. 3101286' 'STON/O 2. 3101274' '8475' '349246' '350053' '347465'\n",
            " '350060' '349256' '2700' '2682' '12460' '323592' '9234' '14312' '330911'\n",
            " '363592' '368783' '2660' '367227' '367229' '36865' '315152' '315151'\n",
            " '315153' '350405' '350404' '349253' '2654' '2624' '4135' '349217'\n",
            " 'C 7077' '7935' '7545' '347067' '347065' '2620' '4133'\n",
            " 'STON/O 2. 3101292' '2683' '370371' '345781' '347071' '347073' '349910'\n",
            " 'STON/O 2. 3101285' '330971' 'S.O./P.P. 251' 'A/5. 3336' '1222'\n",
            " 'A/5 21173' '315098' '347743' '347469' '350403' '349235' 'C.A. 42795'\n",
            " '370370' 'C 17369' 'STON/O 2. 3101275' '330924' 'AQ/4 3130' 'A/S 2816'\n",
            " 'STON/O 2. 3101268' '2677' '364850' '36866' '2655' '349213' '349257'\n",
            " '2649' '349255' '383123' '367228' '367226' '330932' '36568' '330931'\n",
            " '330923' '9232' '370372' '376566' '370368' 'SOTON/O.Q. 392087' '343095'\n",
            " 'A.5. 11206' '368703' '345501' '359306' '349233' '349211' '349207'\n",
            " '349221' '330980' '348123' '392096' 'A4. 54510' '371110' '330877'\n",
            " '364506' '372622' '312991' '2661' '2626' '374746' '35852' '382653'\n",
            " 'A./5. 3235' '367230' '347078' '349206' '2667' '2653' 'A./5. 3338'\n",
            " '349218' '2652' '365237' '349234' '2651' '3101297' '363611' '347066'\n",
            " '347470' '350410' 'SOTON/O2 3101272' 'STON/O 2. 3101289' 'A/4. 39886'\n",
            " '2697' '347081' '345364' '370365' '330979' '334912' '371060' '366713'\n",
            " '7267' '364856' '14311' '330959' '347085' '368402' '330919' 'C 17368'\n",
            " '4579' 'Fa 265302' '350407' '347464' '347079' '6563' '315085' '315096'\n",
            " '315094' '349244' '330909' '349909' '3101295' '315097' '3411' '349242'\n",
            " 'SOTON/O.Q. 3101315' '343271' '345498' 'A/5 2817' 'STON/O 2. 3101294'\n",
            " 'STON/O 2. 3101291' 'A/5 21174' '347083' '2668' '330935' '342441'\n",
            " '349245' '349212' '349215' '347076' '347087' 'SOTON/O.Q. 392078' '349227'\n",
            " '315095' '315092' '349223' '65305' '2629' '362316' '349249' '342684'\n",
            " '382652' 'STON/O 2. 3101273' '334915' '364498' 'A/5. 3337'\n",
            " 'S.C./A.4. 23567' '312993' '370129' '342712' 'A/5 3594' 'A/4. 20589'\n",
            " '383162' '2671' '2672' '2676' '367655' 'LP 1588' 'SOTON/O.Q. 3101262'\n",
            " 'CA. 2343' '7266' '343120' '3101296' '2662' 'PP 9549' '345768'\n",
            " 'A/5. 2151' '342826' '36209' '349222' '370374' '345779' '330968' '374910'\n",
            " 'SOTON/OQ 392082' '2669' '392092' '349251' 'STON/O 2. 3101280' '3101265'\n",
            " '347088' '349214' 'SOTON/OQ 392086' '315037' '384461' '335432' '348124'\n",
            " 'A.5. 18509' 'A.5. 3236' 'STON/OQ. 369943' '349208' '349239' 'CA. 2314'\n",
            " 'A/4 45380' '3701' '349205' '7553' 'STON/O 2. 3101288' '315083' '347054'\n",
            " 'SOTON/OQ 392089' 'STON/O 2. 3101269' 'SOTON/OQ 392076' '347060' '7538'\n",
            " '350035' '350033' '363294' '2625' '2621' '2681' '2684' '32302' '376564'\n",
            " 'STON/O 2. 3101293' '383121' '349216' '364499' '364511' '2673' '2641'\n",
            " '2650' '349247' '4138' '4134' 'A/5. 851' '345773' '345777' '345780'\n",
            " '345770' '345783' '345765' '345764' '345763' '2658' '350416' '350406'\n",
            " '349252' '345767' '359309' 'C.A. 49867' 'SOTON/OQ 3101316' '345775'\n",
            " '2688' '347064' '3101267' '3101266' '363272' '3410' 'S.O./P.P. 751'\n",
            " 'A/5 2466' 'SOTON/OQ 3101317' '315154' 'A/4. 34244' '345771' '2659'\n",
            " '2628' '2647' '2665' '2656' '2670' '315082']\n",
            "CA. 2343    11\n",
            "1601         8\n",
            "CA 2144      8\n",
            "PC 17608     7\n",
            "347077       7\n",
            "            ..\n",
            "373450       1\n",
            "2223         1\n",
            "350046       1\n",
            "3101281      1\n",
            "315082       1\n",
            "Name: ticket, Length: 929, dtype: int64\n"
          ]
        }
      ]
    },
    {
      "cell_type": "code",
      "source": [
        "plt.figure(figsize=(20,8))\n",
        "ax = sns.countplot(x = 'ticket', data = df, hue = 'survived')\n",
        "\n",
        "plt.show()"
      ],
      "metadata": {
        "id": "nxZ43RqYr7hG"
      },
      "execution_count": null,
      "outputs": []
    },
    {
      "cell_type": "markdown",
      "source": [
        "티켓 번호가 랜덤인 경우 생존이랑 관련없으며, 만약 번호에 객실 정보나 티켓 비용에 대한 정보가 담겨있다면 생존과 관련있으며 이는 pclass와 연관될 것이다."
      ],
      "metadata": {
        "id": "CXH5YS3rts0P"
      }
    },
    {
      "cell_type": "markdown",
      "metadata": {
        "id": "wWA683wkiot6"
      },
      "source": [
        "### 결측 컬럼"
      ]
    },
    {
      "cell_type": "markdown",
      "source": [
        "####1 age 컬럼"
      ],
      "metadata": {
        "id": "Swll8zwOTpaR"
      }
    },
    {
      "cell_type": "code",
      "source": [
        "print(df['age'].unique())\n",
        "print(df['age'].value_counts())"
      ],
      "metadata": {
        "colab": {
          "base_uri": "https://localhost:8080/"
        },
        "id": "9-sK1oWxTyOK",
        "outputId": "676ac575-a655-422d-c270-ee3efbf3a5d9"
      },
      "execution_count": 44,
      "outputs": [
        {
          "output_type": "stream",
          "name": "stdout",
          "text": [
            "[29.    0.92  2.   30.   25.   48.   63.   39.   53.   71.   47.   18.\n",
            " 24.   26.   80.     nan 50.   32.   36.   37.   42.   19.   35.   28.\n",
            " 45.   40.   58.   22.   41.   44.   59.   60.   33.   17.   11.   14.\n",
            " 49.   76.   46.   27.   64.   55.   70.   38.   51.   31.    4.   54.\n",
            " 23.   43.   52.   16.   32.5  21.   15.   65.   28.5  45.5  56.   13.\n",
            " 61.   34.    6.   57.   62.   67.    1.   12.   20.    0.83  8.    0.67\n",
            "  7.    3.   36.5  18.5   5.   66.    9.    0.75 70.5  22.5   0.33  0.17\n",
            " 40.5  10.   23.5  34.5  20.5  30.5  55.5  38.5  14.5  24.5  60.5  74.\n",
            "  0.42 11.5  26.5 ]\n",
            "24.00    47\n",
            "22.00    43\n",
            "21.00    41\n",
            "30.00    40\n",
            "18.00    39\n",
            "         ..\n",
            "0.33      1\n",
            "22.50     1\n",
            "70.50     1\n",
            "0.67      1\n",
            "26.50     1\n",
            "Name: age, Length: 98, dtype: int64\n"
          ]
        }
      ]
    },
    {
      "cell_type": "code",
      "source": [
        "plt.figure(figsize=(20,8))\n",
        "sns.countplot(data=df, x='age', hue='survived')\n",
        "plt.show()"
      ],
      "metadata": {
        "colab": {
          "base_uri": "https://localhost:8080/",
          "height": 497
        },
        "id": "sHHkjAPvT0og",
        "outputId": "cf329842-cd68-42ef-d7cd-35407932fecb"
      },
      "execution_count": 46,
      "outputs": [
        {
          "output_type": "display_data",
          "data": {
            "text/plain": [
              "<Figure size 1440x576 with 1 Axes>"
            ],
            "image/png": "[encoded data removed]"
          },
          "metadata": {
            "needs_background": "light"
          }
        }
      ]
    },
    {
      "cell_type": "code",
      "source": [
        "#연령대별 생존률\n",
        "df_age = df\n",
        "\n",
        "df_age.loc[df_age['age']<=20, 'age']=0\n",
        "df_age.loc[(df_age['age']<=40)&(df_age['age']>20), 'age']=1\n",
        "df_age.loc[(df_age['age']<=60)&(df_age['age']>40), 'age']=2\n",
        "df_age.loc[(df_age['age']<=80)&(df_age['age']>60), 'age']=3\n",
        "df_age.loc[df_age['age']>80, 'age']=4"
      ],
      "metadata": {
        "id": "EUdy8jA5UKJC"
      },
      "execution_count": 47,
      "outputs": []
    },
    {
      "cell_type": "code",
      "source": [
        "plt.figure(figsize=(20,8))\n",
        "ax = sns.countplot(x = 'age', data = df_age, hue = 'survived', dodge = True)\n",
        "\n",
        "for p in ax.patches:\n",
        "    height = p.get_height()\n",
        "    ax.text(p.get_x() + p.get_width() / 2., height + 3, height, ha = 'center', size = 10)\n",
        "\n",
        "plt.show()"
      ],
      "metadata": {
        "colab": {
          "base_uri": "https://localhost:8080/",
          "height": 497
        },
        "id": "v6zdPbSgVop2",
        "outputId": "1bbfdbca-3c3b-40a6-9127-9ca679f97616"
      },
      "execution_count": 143,
      "outputs": [
        {
          "output_type": "display_data",
          "data": {
            "text/plain": [
              "<Figure size 1440x576 with 1 Axes>"
            ],
            "image/png": "[encoded data removed]"
          },
          "metadata": {
            "needs_background": "light"
          }
        }
      ]
    },
    {
      "cell_type": "markdown",
      "source": [
        "젊은 나이일 수록 생존률이 높을 것으로 예상했지만 연령대별 생존 유무는 차이나지 않는것으로 보인다.\n",
        "<br>\n",
        " **=> 263개의 결측치, 평균 값으로 대체**"
      ],
      "metadata": {
        "id": "1C7qYf_JU15O"
      }
    },
    {
      "cell_type": "markdown",
      "source": [
        "####2 fare 컬럼"
      ],
      "metadata": {
        "id": "TwpCRRE_YQkX"
      }
    },
    {
      "cell_type": "code",
      "source": [
        "print(df['fare'].unique())\n",
        "print(df['fare'].value_counts())"
      ],
      "metadata": {
        "colab": {
          "base_uri": "https://localhost:8080/"
        },
        "id": "y1tVYG48Z-ag",
        "outputId": "c65e8c56-6c49-45c5-af05-b6e95ae0bf0b"
      },
      "execution_count": 138,
      "outputs": [
        {
          "output_type": "stream",
          "name": "stdout",
          "text": [
            "[211.3375 151.55    26.55    77.9583   0.      51.4792  49.5042 227.525\n",
            "  69.3     78.85    30.      25.925  247.5208  76.2917  75.2417  52.5542\n",
            " 221.7792  26.      91.0792 135.6333  35.5     31.     164.8667 262.375\n",
            "  55.      30.5     50.4958  39.6     27.7208 134.5     26.2875  27.4458\n",
            " 512.3292   5.      47.1    120.      61.175   53.1     86.5     29.7\n",
            " 136.7792  52.      25.5875  83.1583  25.7     71.      71.2833  57.\n",
            "  81.8583 106.425   56.9292  78.2667  31.6792  31.6833 110.8833  26.3875\n",
            "  27.75   263.     133.65    49.5     79.2     38.5    211.5     59.4\n",
            "  89.1042  34.6542  28.5    153.4625  63.3583  55.4417  76.7292  42.4\n",
            "  83.475   93.5     42.5     51.8625  50.      57.9792  90.      30.6958\n",
            "  80.      28.7125  25.9292  39.4     45.5    146.5208  82.1708  57.75\n",
            " 113.275   26.2833 108.9     25.7417  61.9792  66.6     40.125   55.9\n",
            "  60.      82.2667  32.3208  79.65    28.5375  33.5     34.0208  75.25\n",
            "  77.2875  61.3792  35.      24.      13.      11.5     10.5     12.525\n",
            "  39.      29.      21.      13.5     26.25    36.75    73.5     31.5\n",
            "  23.      32.5     13.8583  14.5     33.      65.      16.      12.275\n",
            "  27.      15.      13.7917  12.35    10.7083  41.5792  12.      12.875\n",
            "  15.0458  37.0042  15.5792  19.5     14.       9.6875  30.0708  13.8625\n",
            "  15.05    12.7375  15.0333  18.75    12.65    15.75     7.55    20.25\n",
            "   7.65     7.925    7.2292   7.25     8.05     9.475    9.35    18.7875\n",
            "   7.8875   7.05     8.3     22.525    7.8542  31.275    7.775    7.7958\n",
            "   7.8958  17.8     31.3875   7.225   14.4583  15.85    19.2583  14.4542\n",
            "   7.8792   4.0125  56.4958   7.75    15.2458  15.5     16.1      7.725\n",
            "   7.0458   7.2833   7.8208   6.75     8.6625   7.7333   7.4958   7.6292\n",
            "  15.9      8.1583  10.5167  10.1708   6.95    14.4     24.15    17.4\n",
            "   9.5     20.575   12.475   13.9      6.975   15.1     34.375    7.7417\n",
            "  20.525    7.85    46.9      8.3625   9.8458   8.85    19.9667  14.1083\n",
            "   6.8583   8.9625  12.2875   6.45     7.0542   8.1125   6.4958   8.6542\n",
            "  11.1333  23.45     9.825    7.125    8.4333   7.5208  13.4167   7.8292\n",
            "   7.7375  22.025   12.1833   9.5875   9.4833  25.4667   6.4375  15.55\n",
            "   7.5792   7.1417  23.25     7.7875   8.0292   8.4583  15.7417  11.2417\n",
            "   7.8      6.2375   9.225    3.1708   8.4042   7.3125   9.2167   8.6833\n",
            "  21.075   39.6875   8.7125  13.775    7.      22.3583   8.1375  29.125\n",
            "   7.7208  20.2125   7.7292   7.575   69.55     9.325   21.6792  16.7\n",
            "   7.7792  27.9         nan   9.8375  10.4625   8.5167   9.8417   9.\n",
            "  18.       7.875 ]\n",
            "8.0500     60\n",
            "13.0000    59\n",
            "7.7500     55\n",
            "26.0000    50\n",
            "7.8958     49\n",
            "           ..\n",
            "15.0500     1\n",
            "9.6875      1\n",
            "15.5792     1\n",
            "12.0000     1\n",
            "7.8750      1\n",
            "Name: fare, Length: 281, dtype: int64\n"
          ]
        }
      ]
    },
    {
      "cell_type": "code",
      "source": [
        "plt.figure(figsize=(50,8))\n",
        "sns.countplot(data=df, x='fare', hue='survived')\n",
        "plt.show()"
      ],
      "metadata": {
        "colab": {
          "base_uri": "https://localhost:8080/",
          "height": 517
        },
        "id": "nfySNc4BZ-al",
        "outputId": "1dac5d1e-140a-4f19-c760-860b8d159178"
      },
      "execution_count": 139,
      "outputs": [
        {
          "output_type": "display_data",
          "data": {
            "text/plain": [
              "<Figure size 3600x576 with 1 Axes>"
            ],
            "image/png": "[encoded data removed]"
          },
          "metadata": {
            "needs_background": "light"
          }
        }
      ]
    },
    {
      "cell_type": "code",
      "execution_count": null,
      "metadata": {
        "colab": {
          "base_uri": "https://localhost:8080/",
          "height": 555
        },
        "id": "BfrcGlxf91Fk",
        "outputId": "3306897f-481a-4e16-998d-4e1899f92e0a"
      },
      "outputs": [
        {
          "data": {
            "text/plain": [
              "<matplotlib.axes._subplots.AxesSubplot at 0x7f4ef9039c90>"
            ]
          },
          "execution_count": 47,
          "metadata": {},
          "output_type": "execute_result"
        },
        {
          "data": {
            "image/png": "[encoded data removed]",
            "text/plain": [
              "<Figure size 864x648 with 1 Axes>"
            ]
          },
          "metadata": {
            "needs_background": "light"
          },
          "output_type": "display_data"
        }
      ],
      "source": [
        "\n",
        "df['fare'].hist(bins=20,figsize=(12,9),grid=False)"
      ]
    },
    {
      "cell_type": "markdown",
      "source": [
        "낮은 금액대에 대부분의 데이터가 몰려있어서 유의미한 상관관계를 파악하기 어렵지만, 상대적으로 고가의 티켓을 지불한 사람이 생존률이 더 높다.\n",
        "pclass와 직접적인 관련이 있는 컬럼으로서 더 좋은 객실에 머무른 사람이 생존과정에서도 더 좋은 환경에 놓여졌을 것이라고 생각한다.\n",
        "\n",
        "**=> 1개의 결측치, 해당 데이터만 제거**"
      ],
      "metadata": {
        "id": "48YqRdXnZ-al"
      }
    },
    {
      "cell_type": "markdown",
      "source": [
        "####3 cabin 컬럼 (보류)"
      ],
      "metadata": {
        "id": "UVAggBwEYTVD"
      }
    },
    {
      "cell_type": "code",
      "source": [
        "# DATASET_RAW.replace('정상', '양품', inplace = True)"
      ],
      "metadata": {
        "id": "018O1oqWfMBT"
      },
      "execution_count": null,
      "outputs": []
    },
    {
      "cell_type": "code",
      "source": [
        "df_cabin = df\n",
        "\n",
        "# df_cabin['cabin'].str.replace('A', 'A')\n",
        "# df_cabin['cabin'].str.replace('A', 'A', inplace= True )\n",
        "# df_cabin['cabin'].str.replace('B', 'B',inplace= True)\n",
        "# df_cabin['cabin'].str.replace('C', 'C',inplace= True)\n",
        "# df_cabin['cabin'].str.replace('D', 'D',inplace= True)\n",
        "# df_cabin['cabin'].str.replace('F', 'F',inplace= True)\n",
        "# df_cabin['cabin'].str.replace('E', 'E',inplace= True)\n",
        "# df_cabin['cabin'].str.replace('G', 'G',inplace= True)\n",
        "# df_cabin['cabin'].str.replace('T', 'T',inplace= True)\n"
      ],
      "metadata": {
        "id": "awY7m5pieBlc"
      },
      "execution_count": 120,
      "outputs": []
    },
    {
      "cell_type": "code",
      "source": [
        "# dt['주소'].str.contains('종로구')"
      ],
      "metadata": {
        "id": "scbjsLRkhvZr"
      },
      "execution_count": null,
      "outputs": []
    },
    {
      "cell_type": "code",
      "source": [
        "# # df_cabin['cabin'] =  df_cabin[df_cabin['cabin'].str.contains('C') == True].replace('C')\n",
        "\n",
        "# df.head(30)\n",
        "\n",
        "\n",
        "# # DATASET_RAW['FACTORY_NUM'] = DATASET_RAW['FACTORY_NUM'].str.replace('공장', '라인')\n",
        "# # DATASET_RAW\n",
        "# df[df['cabin'].str.contains('C', na = False)]"
      ],
      "metadata": {
        "id": "0uFqS1LrgQId"
      },
      "execution_count": null,
      "outputs": []
    },
    {
      "cell_type": "code",
      "source": [
        "# df['cabin'] = df.replace(df['cabin'].str.contains('C'), 'C',inplace=True)\n",
        "\n",
        "# df.head(10)"
      ],
      "metadata": {
        "id": "W-dEIGCOjq5h"
      },
      "execution_count": null,
      "outputs": []
    },
    {
      "cell_type": "code",
      "source": [
        "# df_cabin['cabin'] =  df_cabin['cabin'].str.replace('C', 'C1')\n",
        "\n",
        "# df_cabin.head(30)\n",
        "\n",
        "\n",
        "# # DATASET_RAW['FACTORY_NUM'] = DATASET_RAW['FACTORY_NUM'].str.replace('공장', '라인')\n",
        "# # DATASET_RAW"
      ],
      "metadata": {
        "id": "LhQl9sInh15f"
      },
      "execution_count": null,
      "outputs": []
    },
    {
      "cell_type": "code",
      "source": [],
      "metadata": {
        "id": "pJTfnKvRnRum"
      },
      "execution_count": null,
      "outputs": []
    },
    {
      "cell_type": "code",
      "source": [
        "# print(df_cabin['cabin'].unique())\n",
        "# print(df_cabin['cabin'].value_counts())"
      ],
      "metadata": {
        "id": "k54VNcr-Z-18"
      },
      "execution_count": null,
      "outputs": []
    },
    {
      "cell_type": "code",
      "source": [
        "# plt.figure(figsize=(150,8))\n",
        "# sns.countplot(data=df, x='cabin', hue='survived',order = df['cabin'].value_counts().index)\n",
        "# plt.show()"
      ],
      "metadata": {
        "id": "e3CDJ6kbZ-18"
      },
      "execution_count": null,
      "outputs": []
    },
    {
      "cell_type": "markdown",
      "source": [
        "<!-- 생존과 사망에서 특징을 찾기 어려울 것으로 판단된다.\n",
        "\n",
        "**=> 컬럼 삭제** -->"
      ],
      "metadata": {
        "id": "aXMVBr1NZ-18"
      }
    },
    {
      "cell_type": "markdown",
      "source": [
        "#### 4 embarked 컬럼"
      ],
      "metadata": {
        "id": "fKqpdp4yYwcI"
      }
    },
    {
      "cell_type": "code",
      "source": [
        "print(df['embarked'].unique())\n",
        "print(df['embarked'].value_counts())"
      ],
      "metadata": {
        "colab": {
          "base_uri": "https://localhost:8080/"
        },
        "id": "PIT0sZ_iZ_Q4",
        "outputId": "89e2fa8b-828a-4361-cb0b-b2342545c6b9"
      },
      "execution_count": 140,
      "outputs": [
        {
          "output_type": "stream",
          "name": "stdout",
          "text": [
            "['S' 'C' nan 'Q']\n",
            "S    914\n",
            "C    270\n",
            "Q    123\n",
            "Name: embarked, dtype: int64\n"
          ]
        }
      ]
    },
    {
      "cell_type": "code",
      "source": [
        "plt.figure(figsize=(10,8))\n",
        "ax = sns.countplot(x='embarked', data=df, hue='survived', dodge = True)\n",
        "\n",
        "for p in ax.patches:\n",
        "    height = p.get_height()\n",
        "    ax.text(p.get_x() + p.get_width() / 2., height + 3, height, ha = 'center', size = 10)\n",
        "\n",
        "plt.show()"
      ],
      "metadata": {
        "colab": {
          "base_uri": "https://localhost:8080/",
          "height": 497
        },
        "id": "2d0s9PuoZ_Q4",
        "outputId": "e000eda6-442d-4689-fdf0-395a2f0feb37"
      },
      "execution_count": 170,
      "outputs": [
        {
          "output_type": "display_data",
          "data": {
            "text/plain": [
              "<Figure size 720x576 with 1 Axes>"
            ],
            "image/png": "[encoded data removed]"
          },
          "metadata": {
            "needs_background": "light"
          }
        }
      ]
    },
    {
      "cell_type": "markdown",
      "source": [
        "\n",
        "선착장 위치에 따라 생존률 변화가 관찰됩니다.<br>\n",
        "C > Q >= S <br>\n",
        "C선착장이 구명보트에 접근하기 쉬운 위치 or 탈출에 유리한 장소였을 것이라고 예상됩니다.<br>\n",
        "\n",
        "**=> 2개의 결측치 데이터, 해당 데이터만 삭제**"
      ],
      "metadata": {
        "id": "d1Bs-Oi_Z_Q5"
      }
    },
    {
      "cell_type": "markdown",
      "source": [
        "####5 boat 컬럼"
      ],
      "metadata": {
        "id": "F4KfajcMOSHT"
      }
    },
    {
      "cell_type": "code",
      "source": [
        "df['boat'].unique()"
      ],
      "metadata": {
        "colab": {
          "base_uri": "https://localhost:8080/"
        },
        "id": "2gf3I4366JZU",
        "outputId": "a6185de7-8acb-456e-aa03-7a382a284351"
      },
      "execution_count": 26,
      "outputs": [
        {
          "output_type": "execute_result",
          "data": {
            "text/plain": [
              "array(['2', '11', nan, '3', '10', 'D', '4', '9', '6', 'B', '8', 'A', '5',\n",
              "       '7', 'C', '14', '5 9', '13', '1', '15', '5 7', '8 10', '12', '16',\n",
              "       '13 15 B', 'C D', '15 16', '13 15'], dtype=object)"
            ]
          },
          "metadata": {},
          "execution_count": 26
        }
      ]
    },
    {
      "cell_type": "code",
      "source": [
        "df['survived'].value_counts()"
      ],
      "metadata": {
        "colab": {
          "base_uri": "https://localhost:8080/"
        },
        "id": "SEzdnY-X8scz",
        "outputId": "19ba0fd4-599e-480e-f296-34f878fa954f"
      },
      "execution_count": 27,
      "outputs": [
        {
          "output_type": "execute_result",
          "data": {
            "text/plain": [
              "0    809\n",
              "1    500\n",
              "Name: survived, dtype: int64"
            ]
          },
          "metadata": {},
          "execution_count": 27
        }
      ]
    },
    {
      "cell_type": "code",
      "source": [
        "plt.figure(figsize=(10,8))\n",
        "sns.countplot(data=df, x='boat', hue='survived')\n",
        "plt.show()"
      ],
      "metadata": {
        "colab": {
          "base_uri": "https://localhost:8080/",
          "height": 497
        },
        "id": "P6vJt0iQ65Ew",
        "outputId": "4ce6bb19-b869-4460-9e24-e55e2351236b"
      },
      "execution_count": 28,
      "outputs": [
        {
          "output_type": "display_data",
          "data": {
            "text/plain": [
              "<Figure size 720x576 with 1 Axes>"
            ],
            "image/png": "[encoded data removed]"
          },
          "metadata": {
            "needs_background": "light"
          }
        }
      ]
    },
    {
      "cell_type": "markdown",
      "source": [
        "보트 값을 가진 사람은 대부분이 생존자이다. \n",
        "보트를 탔음에도 사망한 사람은  \n",
        "\n",
        "*   차가운 물에 빠져 동상했거나, \n",
        "*   탈출 과정에서의 부상\n",
        "*   이미 사망한 사람을 태웠을 경우로 예상한다.\n",
        "\n",
        "**=> 컬럼 삭제**"
      ],
      "metadata": {
        "id": "yE6f3YWkOJaN"
      }
    },
    {
      "cell_type": "markdown",
      "source": [
        "####6 body 컬럼"
      ],
      "metadata": {
        "id": "lOQfzFW-PX5H"
      }
    },
    {
      "cell_type": "code",
      "source": [
        "print(df['body'].unique())\n",
        "\n",
        "print(df['body'].value_counts())"
      ],
      "metadata": {
        "colab": {
          "base_uri": "https://localhost:8080/"
        },
        "id": "ZbyMuhTPPWF7",
        "outputId": "efe0a18f-dd96-4d32-d5e1-c701b750b54c"
      },
      "execution_count": 29,
      "outputs": [
        {
          "output_type": "stream",
          "name": "stdout",
          "text": [
            "[ nan 135.  22. 124. 148. 208. 172. 269.  62. 133. 275. 147. 110. 307.\n",
            "  38.  80.  45. 258. 126. 292. 175. 249. 230. 122. 263. 234. 189. 166.\n",
            " 207. 232.  16. 109.  96.  46. 245. 169. 174.  97.  18. 130.  17. 295.\n",
            " 286. 236. 322. 297. 155. 305.  19.  75.  35. 256. 149. 283. 165. 108.\n",
            " 121.  52. 209. 271.  43.  15. 101. 287.  81. 294. 293. 190.  72. 103.\n",
            "  79. 259. 260. 142. 299. 171.   9. 197.  51. 187.  68.  47.  98. 188.\n",
            "  69. 306. 120. 143. 156. 285.  37.  58.  70. 196. 153.  61.  53. 201.\n",
            " 309. 181. 173.  89.   4. 206. 327. 119.   7.  32.  67. 284. 261. 176.\n",
            "  50.   1. 255. 298. 314.  14. 131. 312. 328. 304.]\n",
            "135.0    1\n",
            "101.0    1\n",
            "37.0     1\n",
            "285.0    1\n",
            "156.0    1\n",
            "        ..\n",
            "97.0     1\n",
            "174.0    1\n",
            "169.0    1\n",
            "245.0    1\n",
            "304.0    1\n",
            "Name: body, Length: 121, dtype: int64\n"
          ]
        }
      ]
    },
    {
      "cell_type": "code",
      "source": [
        "plt.figure(figsize=(10,8))\n",
        "sns.countplot(data=df, x='body', hue='survived')\n",
        "plt.show()"
      ],
      "metadata": {
        "colab": {
          "base_uri": "https://localhost:8080/",
          "height": 497
        },
        "id": "n3vgUR9qPWDe",
        "outputId": "7d7b63c3-50e4-460b-b2d9-10a8f3567657"
      },
      "execution_count": 30,
      "outputs": [
        {
          "output_type": "display_data",
          "data": {
            "text/plain": [
              "<Figure size 720x576 with 1 Axes>"
            ],
            "image/png": "[encoded data removed]"
          },
          "metadata": {
            "needs_background": "light"
          }
        }
      ]
    },
    {
      "cell_type": "markdown",
      "source": [
        "body 값을 가진 사람은 오직 사망자이다.\n",
        "\n",
        "**=> 컬럼 삭제**"
      ],
      "metadata": {
        "id": "HV5103MRQFsz"
      }
    },
    {
      "cell_type": "markdown",
      "source": [
        "####7 home.dest 컬럼"
      ],
      "metadata": {
        "id": "rF_OEVLvQRrH"
      }
    },
    {
      "cell_type": "code",
      "source": [
        "print(df['home.dest'].unique())\n",
        "\n",
        "print(df['home.dest'].value_counts())"
      ],
      "metadata": {
        "id": "QbcH79wUQdGe"
      },
      "execution_count": null,
      "outputs": []
    },
    {
      "cell_type": "code",
      "source": [
        "plt.figure(figsize=(10,8))\n",
        "sns.countplot(data=df, x='home.dest', hue='survived')\n",
        "plt.show()"
      ],
      "metadata": {
        "id": "TVK7oQW-QdEa"
      },
      "execution_count": null,
      "outputs": []
    },
    {
      "cell_type": "markdown",
      "source": [
        "생존과 사망에서 특징을 찾기 어려울 것으로 판단된다.\n",
        "\n",
        "**=> 564개의 결측치 데이터, 컬럼 삭제**"
      ],
      "metadata": {
        "id": "2UwqGKsTQ183"
      }
    },
    {
      "cell_type": "markdown",
      "source": [
        "# 3.전처리"
      ],
      "metadata": {
        "id": "-RcPZQAbzt0P"
      }
    },
    {
      "cell_type": "code",
      "source": [],
      "metadata": {
        "id": "aoMsF_XEz9T9"
      },
      "execution_count": null,
      "outputs": []
    },
    {
      "cell_type": "code",
      "source": [],
      "metadata": {
        "id": "xkqKcqGKz9Si"
      },
      "execution_count": null,
      "outputs": []
    },
    {
      "cell_type": "markdown",
      "source": [
        "# 중간 정리\n",
        "\n",
        "#### 생존과 관련된다고 판단한 컬럼\n",
        "1. pclass : C > Q >= S 순서대로 생존률의 차이를 보여줌\n",
        "2. sex : female 성별이 다른 환경 요인과 상관없이 male에 비해서 높은 생존률을 보여준다. 사건 발생 시대와 나라를 고려했을 때 '레이디 퍼스트'라는 서양의 신사도 문화와 상대적으로 신체능력이 약한 여성에게 자리를 배려했을 것이라고 생각된다. \n",
        "3. sibsp & parch : 0명 보다 1~2명의 가족이 있는 사람이 생존률이 더 높았다.(서로 돕거나 & 생존 동기 부여가 됐을 거라고 예상)\n",
        "4. embarked : 특정 선착작에서 탑승한 승객들이 사회적 지위나 경제적으로 부유했을 것으로 예상,  ex)부자동네 선착장\n"
      ],
      "metadata": {
        "id": "Cr-TvwvCwQIs"
      }
    },
    {
      "cell_type": "code",
      "execution_count": null,
      "metadata": {
        "id": "W3SXQBHtbt4X"
      },
      "outputs": [],
      "source": [
        "# df2 = df.drop(['boat','body','home.dest'], axis=1)\n",
        "# df2"
      ]
    },
    {
      "cell_type": "code",
      "source": [
        "# print(df['ticket'].unique())\n",
        "\n",
        "# print(df['ticket'].value_counts())\n",
        "# #Length: 929 종류의 티켓"
      ],
      "metadata": {
        "id": "62-uOximSSUo"
      },
      "execution_count": null,
      "outputs": []
    },
    {
      "cell_type": "code",
      "source": [
        "# plt.figure(figsize=(15,8))\n",
        "# sns.countplot(data=df, x='ticket', hue='survived')\n",
        "# plt.show()"
      ],
      "metadata": {
        "id": "zDRiKZ3OSWog"
      },
      "execution_count": null,
      "outputs": []
    },
    {
      "cell_type": "code",
      "execution_count": null,
      "metadata": {
        "id": "MdPiBIwDgFZJ"
      },
      "outputs": [],
      "source": [
        "# df3 = df[['pclass','survived','sex','age','sibsp','parch','fare','embarked']]\n",
        "# df3"
      ]
    },
    {
      "cell_type": "code",
      "execution_count": null,
      "metadata": {
        "id": "EbKg7jClGRN1"
      },
      "outputs": [],
      "source": [
        "# df3['age'] = df3['age'].fillna(df3['age'].mean())\n"
      ]
    },
    {
      "cell_type": "markdown",
      "metadata": {
        "id": "oJulXhKUlejg"
      },
      "source": [
        "<!-- ###전처리 후 현재 columns 정보\n",
        "- pclass : 객실 등급\n",
        "- survived : 생존 유무\n",
        "- sex : 성별\n",
        "- age : 나이\n",
        "- sibsp : 형제 혹은 부부의 수\n",
        "- parch : 부모, 혹은 자녀의 수\n",
        "- fare : 지불한 운임\n",
        "- embarked : 선착장정보 -->"
      ]
    }
  ],
  "metadata": {
    "colab": {
      "provenance": [],
      "toc_visible": true
    },
    "kernelspec": {
      "display_name": "Python 3",
      "language": "python",
      "name": "python3"
    },
    "language_info": {
      "codemirror_mode": {
        "name": "ipython",
        "version": 3
      },
      "file_extension": ".py",
      "mimetype": "text/x-python",
      "name": "python",
      "nbconvert_exporter": "python",
      "pygments_lexer": "ipython3",
      "version": "3.7.8"
    },
    "toc": {
      "base_numbering": 1,
      "nav_menu": {},
      "number_sections": true,
      "sideBar": true,
      "skip_h1_title": true,
      "title_cell": "Table of Contents",
      "title_sidebar": "Contents",
      "toc_cell": false,
      "toc_position": {},
      "toc_section_display": true,
      "toc_window_display": false
    },
    "varInspector": {
      "cols": {
        "lenName": 16,
        "lenType": 16,
        "lenVar": 40
      },
      "kernels_config": {
        "python": {
          "delete_cmd_postfix": "",
          "delete_cmd_prefix": "del ",
          "library": "var_list.py",
          "varRefreshCmd": "print(var_dic_list())"
        },
        "r": {
          "delete_cmd_postfix": ") ",
          "delete_cmd_prefix": "rm(",
          "library": "var_list.r",
          "varRefreshCmd": "cat(var_dic_list()) "
        }
      },
      "types_to_exclude": [
        "module",
        "function",
        "builtin_function_or_method",
        "instance",
        "_Feature"
      ],
      "window_display": false
    },
    "vscode": {
      "interpreter": {
        "hash": "16ba53182382be989e05fa75fa8d623481629e18e51cd43cc186493887775349"
      }
    }
  },
  "nbformat": 4,
  "nbformat_minor": 0
}